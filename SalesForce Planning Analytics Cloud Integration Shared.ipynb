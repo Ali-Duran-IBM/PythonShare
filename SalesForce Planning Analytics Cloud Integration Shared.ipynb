{
 "cells": [
  {
   "cell_type": "markdown",
   "metadata": {},
   "source": [
    "<h1 style=\"color: #5e9ca0;\"><span style=\"color: #2b2301;\">PA Cloud </span>and&nbsp;<span style=\"color: #2b2301;\">SalesForce.com</span> integration using Watson Studio</h1>"
   ]
  },
  {
   "cell_type": "code",
   "execution_count": null,
   "metadata": {},
   "outputs": [],
   "source": [
    "#Start by installing simple-salesforce python library\n",
    "!pip install simple-salesforce\n",
    "#Also install TM1Py Open source Python Library for TM1 Rest API by Cubewise Code\n",
    "!pip install TM1py"
   ]
  },
  {
   "cell_type": "code",
   "execution_count": 34,
   "metadata": {},
   "outputs": [],
   "source": [
    "import pandas as pd\n",
    "from pandas import DataFrame\n",
    "from simple_salesforce import Salesforce"
   ]
  },
  {
   "cell_type": "code",
   "execution_count": 46,
   "metadata": {},
   "outputs": [],
   "source": [
    "creds = pd.read_csv(body)"
   ]
  },
  {
   "cell_type": "code",
   "execution_count": 36,
   "metadata": {},
   "outputs": [],
   "source": [
    "#For SalesForce.com\n",
    "#bring credentials from csv or enter below\n",
    "#creds = pd.read_csv(\"SalesForce/upassword.csv\")\n",
    "#SalesForce username and password > A free developer account can be setup here: https://developer.salesforce.com/\n",
    "sfuser = creds.iloc[0,4]\n",
    "sfpass = creds.iloc[0,5]\n",
    "#for dev environments isSandbox = 0\n",
    "isSandbox = 0\n",
    "#this token is generated as so https://help.salesforce.com/articleView?id=user_security_token.htm&type=5\n",
    "sftoken = creds.iloc[0,6]\n",
    "#instance is provided to you. easiest way to find it is to look under your profile or go to https://help.salesforce.com/articleView?id=000322728&language=en_US&type=1&mode=1\n",
    "sfinstance = creds.iloc[0,7]"
   ]
  },
  {
   "cell_type": "code",
   "execution_count": 37,
   "metadata": {},
   "outputs": [],
   "source": [
    "#establish SalesForce connect syntax\n",
    "sf = Salesforce(username = sfuser,\n",
    "              password = sfpass,\n",
    "              security_token = sftoken,\n",
    "              instance_url = sfinstance,\n",
    "              sandbox = isSandbox)"
   ]
  },
  {
   "cell_type": "code",
   "execution_count": 39,
   "metadata": {},
   "outputs": [
    {
     "data": {
      "text/plain": [
       "OrderedDict([('totalSize', 1),\n",
       "             ('done', True),\n",
       "             ('records',\n",
       "              [OrderedDict([('attributes',\n",
       "                             OrderedDict([('type', 'Opportunity'),\n",
       "                                          ('url',\n",
       "                                           '/services/data/v38.0/sobjects/Opportunity/0063i0000032cXEAAY')])),\n",
       "                            ('Id', '0063i0000032cXEAAY'),\n",
       "                            ('Name', 'Trout Brewing Company')])])])"
      ]
     },
     "execution_count": 39,
     "metadata": {},
     "output_type": "execute_result"
    }
   ],
   "source": [
    "#validate connection\n",
    "sf.query(\"Select Id, Name From Opportunity Limit 1\")"
   ]
  },
  {
   "cell_type": "markdown",
   "metadata": {},
   "source": [
    "<h3 style=\"color: #5e9ca0;\"> At this point assuming you have created a SalesForce Account and established a connection. \n",
    "Go ahead and setup a few opportunites at SalesForce.com</h3>"
   ]
  },
  {
   "cell_type": "code",
   "execution_count": 40,
   "metadata": {},
   "outputs": [
    {
     "name": "stdout",
     "output_type": "stream",
     "text": [
      "Record Count (0)\n"
     ]
    },
    {
     "data": {
      "text/html": [
       "<div>\n",
       "<style scoped>\n",
       "    .dataframe tbody tr th:only-of-type {\n",
       "        vertical-align: middle;\n",
       "    }\n",
       "\n",
       "    .dataframe tbody tr th {\n",
       "        vertical-align: top;\n",
       "    }\n",
       "\n",
       "    .dataframe thead th {\n",
       "        text-align: right;\n",
       "    }\n",
       "</style>\n",
       "<table border=\"1\" class=\"dataframe\">\n",
       "  <thead>\n",
       "    <tr style=\"text-align: right;\">\n",
       "      <th></th>\n",
       "      <th>Name</th>\n",
       "      <th>AccountName__c</th>\n",
       "      <th>Amount</th>\n",
       "      <th>ExpectedRevenue</th>\n",
       "      <th>CloseDate</th>\n",
       "    </tr>\n",
       "  </thead>\n",
       "  <tbody>\n",
       "    <tr>\n",
       "      <th>0</th>\n",
       "      <td>Trout Brewing Company</td>\n",
       "      <td>Trout Brewing Company</td>\n",
       "      <td>2000000.0</td>\n",
       "      <td>200000.0</td>\n",
       "      <td>2019-08-23</td>\n",
       "    </tr>\n",
       "    <tr>\n",
       "      <th>1</th>\n",
       "      <td>Dickenson Mobile Generators</td>\n",
       "      <td>Dickenson plc</td>\n",
       "      <td>15000.0</td>\n",
       "      <td>1500.0</td>\n",
       "      <td>2019-05-25</td>\n",
       "    </tr>\n",
       "    <tr>\n",
       "      <th>2</th>\n",
       "      <td>United Oil Office Portable Generators</td>\n",
       "      <td>United Oil &amp; Gas Corp.</td>\n",
       "      <td>125000.0</td>\n",
       "      <td>112500.0</td>\n",
       "      <td>2019-05-13</td>\n",
       "    </tr>\n",
       "    <tr>\n",
       "      <th>3</th>\n",
       "      <td>Express Logistics Standby Generator</td>\n",
       "      <td>Express Logistics and Transport</td>\n",
       "      <td>220000.0</td>\n",
       "      <td>220000.0</td>\n",
       "      <td>2019-04-08</td>\n",
       "    </tr>\n",
       "    <tr>\n",
       "      <th>4</th>\n",
       "      <td>GenePoint Standby Generator</td>\n",
       "      <td>GenePoint</td>\n",
       "      <td>85000.0</td>\n",
       "      <td>85000.0</td>\n",
       "      <td>2019-05-16</td>\n",
       "    </tr>\n",
       "  </tbody>\n",
       "</table>\n",
       "</div>"
      ],
      "text/plain": [
       "                                    Name                   AccountName__c  \\\n",
       "0                  Trout Brewing Company            Trout Brewing Company   \n",
       "1            Dickenson Mobile Generators                    Dickenson plc   \n",
       "2  United Oil Office Portable Generators           United Oil & Gas Corp.   \n",
       "3    Express Logistics Standby Generator  Express Logistics and Transport   \n",
       "4            GenePoint Standby Generator                        GenePoint   \n",
       "\n",
       "      Amount  ExpectedRevenue   CloseDate  \n",
       "0  2000000.0         200000.0  2019-08-23  \n",
       "1    15000.0           1500.0  2019-05-25  \n",
       "2   125000.0         112500.0  2019-05-13  \n",
       "3   220000.0         220000.0  2019-04-08  \n",
       "4    85000.0          85000.0  2019-05-16  "
      ]
     },
     "execution_count": 40,
     "metadata": {},
     "output_type": "execute_result"
    }
   ],
   "source": [
    "##this definition was created by a developer named Jie Jenn for SOQL calls to SalesForce\n",
    "## you can watch a how to video by him here: https://www.youtube.com/watch?v=iKaFa3N2Nhw&t=770s\n",
    "def SalesCall(SalesCall):\n",
    "    qryResult = sf.query(SalesCall)\n",
    "    print('Record Count (0)'.format(qryResult['totalSize']))\n",
    "    isDone = qryResult['done']\n",
    "    \n",
    "    if isDone == True:\n",
    "        df = DataFrame(qryResult['records'])\n",
    "        \n",
    "    while isDone != True:\n",
    "        try:\n",
    "            if qryResult['done'] != True:\n",
    "                df = df.append(DataFrame(qryResult['records']));\n",
    "                qryResult = sf.query_more(qryResult['nextRecordsUrl'],True)\n",
    "            else:\n",
    "                    df = df.append(DataFrame(qryResult['records']))\n",
    "                    isDone = True;\n",
    "                    print('completed')\n",
    "                    break;\n",
    "        except NameError:\n",
    "            df = DataFrame(qryResult['records'])\n",
    "            qry = sf.query_more(qryResult['nextRecordsUrl'], True)\n",
    "                    \n",
    "    df = df.drop('attributes',axis =1 )\n",
    "    return df;\n",
    "\n",
    "\n",
    "## For a list of Fields refer to documentation https://developer.salesforce.com/docs/atlas.en-us.sfFieldRef.meta/sfFieldRef/salesforce_field_reference_Opportunity.htm\n",
    "##Account name is a custom rule field below\n",
    "## in order to create it follow these guidelines:https://help.salesforce.com/articleView?id=adding_fields.htm&type=5\n",
    "df=SalesCall('Select Name,AccountName__c,Amount,ExpectedRevenue,CloseDate FROM Opportunity')\n",
    "df.head()"
   ]
  },
  {
   "cell_type": "code",
   "execution_count": 41,
   "metadata": {},
   "outputs": [],
   "source": [
    "#bring TM1py library components to your Jupyter Notebook\n",
    "#to learn more about TM1Py check out https://code.cubewise.com/tm1py\n",
    "from TM1py.Utils import Utils\n",
    "from TM1py.Objects import Cube, Dimension, Hierarchy, Element, NativeView, Subset\n",
    "from TM1py.Services import TM1Service\n",
    "from datetime import timedelta, date\n",
    "from TM1py.Services import TM1Service\n",
    "from TM1py.Utils.Utils import build_cellset_from_pandas_dataframe"
   ]
  },
  {
   "cell_type": "code",
   "execution_count": 42,
   "metadata": {},
   "outputs": [],
   "source": [
    "#bring user name and password for Non-Interactive account from CSV file. \n",
    "#This information is in your Welcome Kit and this account will need access to TM1server that you will be using on this tenant\n",
    "user=creds.iloc[0,0]\n",
    "password=creds.iloc[0,1]\n",
    "#also define your tenant\n",
    "pTenant=creds.iloc[0,2]\n",
    "#define TM1 server you will be using\n",
    "pServer=creds.iloc[0,3]\n",
    "#Tenant URL\n",
    "base_url = 'https://' + pTenant + '.planning-analytics.ibmcloud.com/tm1/api/' + pServer\n",
    "#SSLis always true for PA Cloud\n",
    "ssl=True\n",
    "#IBMCloud Name Space\n",
    "namespace='LDAP'"
   ]
  },
  {
   "cell_type": "code",
   "execution_count": 43,
   "metadata": {},
   "outputs": [],
   "source": [
    "# Time magic with python generator\n",
    "def daterange(start_date, end_date):\n",
    "    for n in range(int((end_date - start_date).days)):\n",
    "        yield start_date + timedelta(n)\n",
    "\n",
    "\n",
    "# push data to TM1\n",
    "with TM1Service(base_url=base_url, \n",
    "                user=user,  \n",
    "                password=password,\n",
    "                namespace=namespace,\n",
    "                ssl=ssl) as tm1:\n",
    "    # ============================\n",
    "\n",
    "\n",
    "    # create dimension SalesForce Date\n",
    "    start_date = date(1990, 1, 1)\n",
    "    end_date = date(2041, 1, 1)\n",
    "    elements = [Element(str(single_date), 'Numeric') for single_date in daterange(start_date, end_date)]\n",
    "    hierarchy = Hierarchy('SalesForce Date', 'SalesForce Date', elements)\n",
    "    dimension = Dimension('SalesForce Date', [hierarchy])\n",
    "    if not tm1.dimensions.exists(dimension.name):\n",
    "        tm1.dimensions.create(dimension)\n",
    "\n",
    "   \n",
    "    # create dimension Sales Force Opportunities\n",
    "    #Tickers to create\n",
    "    opportunities = list(df['Name'])\n",
    "    elements = [Element(opportunity, 'String') for opportunity in opportunities]\n",
    "    hierarchy = Hierarchy('SalesForce Opportunities', 'SalesForce Opportunities', elements)\n",
    "    dimension = Dimension('SalesForce Opportunities', [hierarchy])\n",
    "    if not tm1.dimensions.exists(dimension.name):\n",
    "        tm1.dimensions.create(dimension)\n",
    "\n",
    "    # create dimension Sales Force Accounts\n",
    "    #Tickers to create\n",
    "    accounts = list(df['AccountName__c'])\n",
    "    elements = [Element(account, 'String') for account in accounts]\n",
    "    hierarchy = Hierarchy('SalesForce Accounts', 'SalesForce Accouns', elements)\n",
    "    dimension = Dimension('SalesForce Accounts', [hierarchy])\n",
    "    if not tm1.dimensions.exists(dimension.name):\n",
    "        tm1.dimensions.create(dimension)\n",
    "        \n",
    "        \n",
    "    # create dimension SalesForce Measure\n",
    "    measures = ('Amount','ExpectedRevenue')\n",
    "    elements = [Element(measure, 'Numeric') for measure in measures]\n",
    "    hierarchy = Hierarchy('SalesForce Measure', 'SalesForce Measure', elements)\n",
    "    dimension = Dimension('SalesForce Measure', [hierarchy])\n",
    "    if not tm1.dimensions.exists(dimension.name):\n",
    "        tm1.dimensions.create(dimension)\n",
    "\n",
    "    # create cube TM1py Stock Prices\n",
    "    #cube = Cube('SalesForce Python', ['SalesForce Opportunities', 'SalesForce Accounts','SalesForce Date', 'SalesForce Measure'])\n",
    "    cube = Cube('SalesForce Python', ['SalesForce Opportunities', 'SalesForce Accounts','SalesForce Date', 'SalesForce Measure'])\n",
    "    if not tm1.cubes.exists(cube.name):\n",
    "        tm1.cubes.create(cube)"
   ]
  },
  {
   "cell_type": "code",
   "execution_count": 44,
   "metadata": {},
   "outputs": [
    {
     "data": {
      "text/html": [
       "<div>\n",
       "<style scoped>\n",
       "    .dataframe tbody tr th:only-of-type {\n",
       "        vertical-align: middle;\n",
       "    }\n",
       "\n",
       "    .dataframe tbody tr th {\n",
       "        vertical-align: top;\n",
       "    }\n",
       "\n",
       "    .dataframe thead th {\n",
       "        text-align: right;\n",
       "    }\n",
       "</style>\n",
       "<table border=\"1\" class=\"dataframe\">\n",
       "  <thead>\n",
       "    <tr style=\"text-align: right;\">\n",
       "      <th></th>\n",
       "      <th>Name</th>\n",
       "      <th>AccountName__c</th>\n",
       "      <th>Amount</th>\n",
       "      <th>ExpectedRevenue</th>\n",
       "      <th>CloseDate</th>\n",
       "    </tr>\n",
       "  </thead>\n",
       "  <tbody>\n",
       "    <tr>\n",
       "      <th>0</th>\n",
       "      <td>Trout Brewing Company</td>\n",
       "      <td>Trout Brewing Company</td>\n",
       "      <td>2000000.0</td>\n",
       "      <td>200000.0</td>\n",
       "      <td>2019-08-23</td>\n",
       "    </tr>\n",
       "    <tr>\n",
       "      <th>1</th>\n",
       "      <td>Dickenson Mobile Generators</td>\n",
       "      <td>Dickenson plc</td>\n",
       "      <td>15000.0</td>\n",
       "      <td>1500.0</td>\n",
       "      <td>2019-05-25</td>\n",
       "    </tr>\n",
       "    <tr>\n",
       "      <th>2</th>\n",
       "      <td>United Oil Office Portable Generators</td>\n",
       "      <td>United Oil &amp; Gas Corp.</td>\n",
       "      <td>125000.0</td>\n",
       "      <td>112500.0</td>\n",
       "      <td>2019-05-13</td>\n",
       "    </tr>\n",
       "    <tr>\n",
       "      <th>3</th>\n",
       "      <td>Express Logistics Standby Generator</td>\n",
       "      <td>Express Logistics and Transport</td>\n",
       "      <td>220000.0</td>\n",
       "      <td>220000.0</td>\n",
       "      <td>2019-04-08</td>\n",
       "    </tr>\n",
       "    <tr>\n",
       "      <th>4</th>\n",
       "      <td>GenePoint Standby Generator</td>\n",
       "      <td>GenePoint</td>\n",
       "      <td>85000.0</td>\n",
       "      <td>85000.0</td>\n",
       "      <td>2019-05-16</td>\n",
       "    </tr>\n",
       "  </tbody>\n",
       "</table>\n",
       "</div>"
      ],
      "text/plain": [
       "                                    Name                   AccountName__c  \\\n",
       "0                  Trout Brewing Company            Trout Brewing Company   \n",
       "1            Dickenson Mobile Generators                    Dickenson plc   \n",
       "2  United Oil Office Portable Generators           United Oil & Gas Corp.   \n",
       "3    Express Logistics Standby Generator  Express Logistics and Transport   \n",
       "4            GenePoint Standby Generator                        GenePoint   \n",
       "\n",
       "      Amount  ExpectedRevenue   CloseDate  \n",
       "0  2000000.0         200000.0  2019-08-23  \n",
       "1    15000.0           1500.0  2019-05-25  \n",
       "2   125000.0         112500.0  2019-05-13  \n",
       "3   220000.0         220000.0  2019-04-08  \n",
       "4    85000.0          85000.0  2019-05-16  "
      ]
     },
     "execution_count": 44,
     "metadata": {},
     "output_type": "execute_result"
    }
   ],
   "source": [
    "df.head()"
   ]
  },
  {
   "cell_type": "code",
   "execution_count": 45,
   "metadata": {},
   "outputs": [],
   "source": [
    "cube = 'SalesForce Python'\n",
    "pLoad='Amount'\n",
    "with TM1Service(base_url=base_url, \n",
    "                user=user,  \n",
    "                password=password,\n",
    "                namespace=namespace,\n",
    "                ssl=ssl) as tm1:\n",
    "        d = {'Name': pd.Series((df['Name'].values)),\n",
    "             'Account Name': pd.Series((df['AccountName__c'].values)),\n",
    "             'Close Date': pd.Series((df['CloseDate'].values)),\n",
    "             'Measure': pLoad,\n",
    "             'Values': pd.Series(df[pLoad].values)}\n",
    "        df = pd.DataFrame(d)\n",
    "        cellset = build_cellset_from_pandas_dataframe(df)\n",
    "        tm1.cubes.cells.write_values(\n",
    "            cube_name=cube,\n",
    "            cellset_as_dict=cellset)"
   ]
  },
  {
   "cell_type": "code",
   "execution_count": null,
   "metadata": {},
   "outputs": [],
   "source": [
    "#optional cleanup cubes\n",
    "with TM1Service(base_url=base_url, \n",
    "                user=user,  \n",
    "                password=password,\n",
    "                namespace=namespace,\n",
    "                ssl=ssl) as tm1:\n",
    "    cube_names = tm1.cubes.get_all_names()\n",
    "    for cube_name in cube_names:\n",
    "        if \"SalesForce\" in cube_name:\n",
    "            tm1.cubes.delete(cube_name)"
   ]
  },
  {
   "cell_type": "code",
   "execution_count": null,
   "metadata": {},
   "outputs": [],
   "source": [
    "#optional cleanup dimensions\n",
    "with TM1Service(base_url=base_url, \n",
    "                user=user,  \n",
    "                password=password,\n",
    "                namespace=namespace,\n",
    "                ssl=ssl) as tm1:\n",
    "    dimension_names = tm1.dimensions.get_all_names()\n",
    "    for dimension_name in dimension_names:\n",
    "        if \"SalesForce\" in dimension_name and \"}\" not in dimension_name:\n",
    "            tm1.dimensions.delete(dimension_name)"
   ]
  },
  {
   "cell_type": "code",
   "execution_count": null,
   "metadata": {},
   "outputs": [],
   "source": []
  }
 ],
 "metadata": {
  "kernelspec": {
   "display_name": "Python 3.6",
   "language": "python",
   "name": "python3"
  },
  "language_info": {
   "codemirror_mode": {
    "name": "ipython",
    "version": 3
   },
   "file_extension": ".py",
   "mimetype": "text/x-python",
   "name": "python",
   "nbconvert_exporter": "python",
   "pygments_lexer": "ipython3",
   "version": "3.6.8"
  }
 },
 "nbformat": 4,
 "nbformat_minor": 2
}
