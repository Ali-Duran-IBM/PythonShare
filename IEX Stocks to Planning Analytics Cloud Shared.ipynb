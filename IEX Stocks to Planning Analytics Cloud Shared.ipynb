{
 "cells": [
  {
   "cell_type": "markdown",
   "metadata": {},
   "source": [
    "<h1 style=\"color: #5e9ca0;\"><span style=\"color: #2b2301;\">PA Cloud </span>and&nbsp;<span style=\"color: #2b2301;\">IEX Cloud</span> integration for Financial Data using Python</h1>"
   ]
  },
  {
   "cell_type": "code",
   "execution_count": null,
   "metadata": {},
   "outputs": [],
   "source": [
    "##I prefer to load all my credentials from a csv file. Your call on how to load yours.\n",
    "#credentials = pd.read_csv(body)"
   ]
  },
  {
   "cell_type": "code",
   "execution_count": null,
   "metadata": {},
   "outputs": [],
   "source": [
    "!pip install tm1py\n",
    "!pip install iexfinance"
   ]
  },
  {
   "cell_type": "code",
   "execution_count": null,
   "metadata": {},
   "outputs": [],
   "source": [
    "#bring TM1py library components to your Jupyter Notebook\n",
    "from TM1py.Services import TM1Service\n",
    "from TM1py.Utils import Utils\n",
    "from TM1py.Objects import Cube, Dimension, Hierarchy, Element, NativeView, Subset\n",
    "#import datetime library\n",
    "from datetime import timedelta, date, datetime\n",
    "#import IEX Finance library\n",
    "import iexfinance\n",
    "from iexfinance.stocks import get_historical_data\n",
    "#import pandas\n",
    "import pandas as pd"
   ]
  },
  {
   "cell_type": "code",
   "execution_count": null,
   "metadata": {},
   "outputs": [],
   "source": [
    "##get an IEX Account at https://www.iexcloud.io/\n",
    "#insert API token below\n",
    "token = ''"
   ]
  },
  {
   "cell_type": "code",
   "execution_count": null,
   "metadata": {},
   "outputs": [],
   "source": [
    "#this is non-interactive account for PA Cloud that is in your welcome kit\n",
    "#non-interactive account username user = 'username'\n",
    "user=credentials.iloc[0,0]\n",
    "#non-interactive account password password = 'password'\n",
    "password=credentials.iloc[0,1]\n",
    "#also define your tenant pTenant = 'tenantname'\n",
    "pTenant=credentials.iloc[0,2]\n",
    "#define TM1 server you will be using pServer = 'servername'\n",
    "pServer=credentials.iloc[0,3]\n",
    "#Tenant URL\n",
    "base_url = 'https://' + pTenant + '.planning-analytics.ibmcloud.com/tm1/api/' + pServer\n",
    "#SSLis always true for PA Cloud\n",
    "ssl=True\n",
    "#IBMCloud Name Space\n",
    "namespace='LDAP'"
   ]
  },
  {
   "cell_type": "code",
   "execution_count": null,
   "metadata": {},
   "outputs": [],
   "source": [
    "# Time magic with python generator\n",
    "def daterange(start_date, end_date):\n",
    "    for n in range(int((end_date - start_date).days)):\n",
    "        yield start_date + timedelta(n)\n",
    "\n",
    "\n",
    "# push data to TM1\n",
    "with TM1Service(base_url=base_url, \n",
    "                user=user,  \n",
    "                password=password,\n",
    "                namespace=namespace,\n",
    "                ssl=ssl) as tm1:\n",
    "    # ============================\n",
    "    # create dimension IEX Date\n",
    "    start_date = date(2018, 1, 1)\n",
    "    end_date = date(2025, 1, 1)\n",
    "    elements = [Element(str(single_date), 'Numeric') for single_date in daterange(start_date, end_date)]\n",
    "    hierarchy = Hierarchy('IEX Date', 'IEX Date', elements)\n",
    "    dimension = Dimension('IEX Date', [hierarchy])\n",
    "    if not tm1.dimensions.exists(dimension.name):\n",
    "        tm1.dimensions.create(dimension)\n",
    "\n",
    "   \n",
    "    # create dimension IEX Financial Instrument\n",
    "    #Tickers to create\n",
    "    #Ford, GM, Honda, Toyota\n",
    "    instruments = ['F', 'GM', 'HMC','TM']\n",
    "    elements = [Element(instrument, 'Numeric') for instrument in instruments]\n",
    "    hierarchy = Hierarchy('IEX Financial Instrument', 'IEX Financial Instrument', elements)\n",
    "    dimension = Dimension('IEX Financial Instrument', [hierarchy])\n",
    "    if not tm1.dimensions.exists(dimension.name):\n",
    "        tm1.dimensions.create(dimension)\n",
    "\n",
    "    # create dimension IEX Stock Prices Measure\n",
    "    measures = ('open', 'high', 'low', 'close', 'volume')\n",
    "    elements = [Element(measure, 'Numeric') for measure in measures]\n",
    "    hierarchy = Hierarchy('IEX Stock Prices Measure', 'IEX Stock Prices Measure', elements)\n",
    "    dimension = Dimension('IEX Stock Prices Measure', [hierarchy])\n",
    "    if not tm1.dimensions.exists(dimension.name):\n",
    "        tm1.dimensions.create(dimension)\n",
    "\n",
    "    # create cube IEX Stock Prices\n",
    "    cube = Cube('IEX Stock Prices', ['IEX Financial Instrument', 'IEX Date', 'IEX Stock Prices Measure'])\n",
    "    if not tm1.cubes.exists(cube.name):\n",
    "        tm1.cubes.create(cube)"
   ]
  },
  {
   "cell_type": "code",
   "execution_count": null,
   "metadata": {},
   "outputs": [],
   "source": [
    "#change tickers here \n",
    "pTick=instruments[0]\n",
    "token = token\n",
    "#query data between these dates\n",
    "start = datetime(2019, 7, 1)\n",
    "end = datetime(2019, 7, 24)\n",
    "#uncomment to lines below to pull yesterday's data only, if you schedule to run daily\n",
    "#start = datetime.strftime(datetime.now() - timedelta(1), '%Y-%m-%d')\n",
    "#end = datetime.strftime(datetime.now(), '%Y-%m-%d')\n",
    "data= get_historical_data(pTick,start,end, token=token, output_format='pandas')\n",
    "data"
   ]
  },
  {
   "cell_type": "code",
   "execution_count": null,
   "metadata": {},
   "outputs": [],
   "source": [
    "pCube='IEX Stock Prices'\n",
    "cellset = {}\n",
    "for tmstp, row in data.iterrows():\n",
    "    date = tmstp.date()\n",
    "    for measure in measures:\n",
    "        cellset[(pTick, str(date), measure)] = row[measure]\n",
    "\n",
    "# push data to TM1\n",
    "with TM1Service(base_url=base_url, \n",
    "                user=user,  \n",
    "                password=password,\n",
    "                namespace=namespace,\n",
    "                ssl=ssl) as tm1:\n",
    "    tm1.cubes.cells.write_values(pCube, cellset)"
   ]
  },
  {
   "cell_type": "code",
   "execution_count": null,
   "metadata": {},
   "outputs": [],
   "source": [
    "#optional cleanup cubes\n",
    "#warning this will delete cubes you created above\n",
    "\n",
    "with TM1Service(base_url=base_url, \n",
    "                user=user,  \n",
    "                password=password,\n",
    "                namespace=namespace,\n",
    "                ssl=ssl) as tm1:\n",
    "    cube_names = tm1.cubes.get_all_names()\n",
    "    for cube_name in cube_names:\n",
    "        if \"IEX\" in cube_name:\n",
    "            tm1.cubes.delete(cube_name)"
   ]
  },
  {
   "cell_type": "code",
   "execution_count": null,
   "metadata": {},
   "outputs": [],
   "source": [
    "#optional cleanup dimensions\n",
    "#warning this will delete dimensions you created above\n",
    "\n",
    "with TM1Service(base_url=base_url, \n",
    "                user=user,  \n",
    "                password=password,\n",
    "                namespace=namespace,\n",
    "                ssl=ssl) as tm1:\n",
    "    dimension_names = tm1.dimensions.get_all_names()\n",
    "    for dimension_name in dimension_names:\n",
    "        if \"IEX\" in dimension_name and \"}\" not in dimension_name:\n",
    "            tm1.dimensions.delete(dimension_name)"
   ]
  }
 ],
 "metadata": {
  "kernelspec": {
   "display_name": "Python 3.6",
   "language": "python",
   "name": "python3"
  },
  "language_info": {
   "codemirror_mode": {
    "name": "ipython",
    "version": 3
   },
   "file_extension": ".py",
   "mimetype": "text/x-python",
   "name": "python",
   "nbconvert_exporter": "python",
   "pygments_lexer": "ipython3",
   "version": "3.6.8"
  }
 },
 "nbformat": 4,
 "nbformat_minor": 1
}
